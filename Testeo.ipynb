{
  "nbformat": 4,
  "nbformat_minor": 0,
  "metadata": {
    "colab": {
      "name": "iternet testing working",
      "provenance": [],
      "collapsed_sections": [],
      "toc_visible": true,
      "include_colab_link": true
    },
    "kernelspec": {
      "name": "python377jvsc74a57bd08d7ed6639d63e750b5b0f4d2708abbc808826a6167900b678841b78ff031709d",
      "display_name": "Python 3.7.7 64-bit ('base': conda)"
    },
    "accelerator": "GPU"
  },
  "cells": [
    {
      "cell_type": "markdown",
      "metadata": {
        "id": "view-in-github",
        "colab_type": "text"
      },
      "source": [
        "<a href=\"https://colab.research.google.com/github/juanigp/IterNet/blob/master/Testeo.ipynb\" target=\"_parent\"><img src=\"https://colab.research.google.com/assets/colab-badge.svg\" alt=\"Open In Colab\"/></a>"
      ]
    },
    {
      "cell_type": "code",
      "metadata": {
        "id": "3KhNjfXfv6qc",
        "colab": {
          "base_uri": "https://localhost:8080/",
          "height": 182
        },
        "outputId": "9d5003b1-6dbc-47be-8891-6b124e43cada"
      },
      "source": [
        "! git clone https://github.com/juanigp/IterNet\n",
        "%cd /content/IterNet"
      ],
      "execution_count": 1,
      "outputs": [
        {
          "output_type": "stream",
          "name": "stdout",
          "text": [
            "Cloning into 'IterNet'...\n",
            "remote: Enumerating objects: 24, done.\u001b[K\n",
            "remote: Counting objects: 100% (24/24), done.\u001b[K\n",
            "remote: Compressing objects: 100% (20/20), done.\u001b[K\n",
            "remote: Total 378 (delta 10), reused 7 (delta 2), pack-reused 354\u001b[K\n",
            "Receiving objects: 100% (378/378), 480.80 MiB | 6.12 MiB/s, done.\n",
            "Resolving deltas: 100% (123/123), done.\n",
            "[Errno 2] No such file or directory: '/content/IterNet'\n",
            "/Users/stevenmartine/Documents/GitHub/IterNet\n"
          ]
        }
      ]
    },
    {
      "cell_type": "code",
      "metadata": {
        "id": "Rs0WjHHNv9SC",
        "colab": {
          "base_uri": "https://localhost:8080/",
          "height": 404
        },
        "outputId": "0e016dfc-3fe1-417c-dcbc-ced61764f821"
      },
      "source": [
        "%tensorflow_version 1.x\n",
        "import predict\n",
        "%cp -r \"raw data/escena 2 recortada/.\" \"data/DRIVE/test/images\"\n",
        "predict.predict(stride_size=10)"
      ],
      "execution_count": 4,
      "outputs": [
        {
          "output_type": "stream",
          "name": "stderr",
          "text": [
            "UsageError: Line magic function `%tensorflow_version` not found.\n"
          ]
        }
      ]
    },
    {
      "cell_type": "code",
      "metadata": {
        "id": "U02slYljM31v"
      },
      "source": [
        "%mkdir results/iternet\n",
        "%mkdir results/unet"
      ],
      "execution_count": null,
      "outputs": []
    },
    {
      "cell_type": "code",
      "metadata": {
        "id": "cjamYJqAxyEp",
        "colab": {
          "base_uri": "https://localhost:8080/",
          "height": 1000
        },
        "outputId": "821a662a-60f5-40ca-fedf-cdcc2208a6f3"
      },
      "source": [
        "import pickle\n",
        "import os\n",
        "from PIL import Image\n",
        "import re\n",
        "\n",
        "def get_pickles_and_store(in_dir, out_dir):\n",
        "  files = os.listdir(in_dir)\n",
        "  files = [file for file in files if '.pickle' in file]\n",
        "  for f in files:\n",
        "    pkl = pickle.load(open( os.path.join(in_dir,f), \"rb\" ) )\n",
        "    im = Image.fromarray(pkl*255)\n",
        "    im = im.convert(\"L\")\n",
        "    basename = os.path.basename(f)\n",
        "    #result = re.search('out4/(.*).pickle', f)\n",
        "    #name = str( int( result.group(1) ) )\n",
        "    name = basename.split('.')[0]\n",
        "    im.save(out_dir + '/' + name + '.png')\n",
        "    #pickle.dump( pkl, open( out_dir + '/' + name + '.pickle', \"wb\" ) )\n",
        "\n",
        "\n",
        "out_dir_iternet = 'results/iternet'\n",
        "out_dir_unet = 'results/unet'\n",
        "get_pickles_and_store(r\"output/DRIVE/crop_size_128/out4/\", out_dir_iternet)\n",
        "get_pickles_and_store(r\"output/DRIVE/crop_size_128/out1/\", out_dir_unet)\n",
        "!zip -r file.zip results\n",
        "\n",
        "\"\"\"\n",
        "files = glob(r\"output/DRIVE/crop_size_128/out4/*.pickle\")\n",
        "for f in files:\n",
        "  #se guarda cada pickle en el directorio results, y tambien se exporta como imagen\n",
        "  pkl = pickle.load(open( f, \"rb\" ) )\n",
        "  im = Image.fromarray(pkl*255)\n",
        "  im = im.convert(\"L\")\n",
        "  result = re.search('out4/(.*).pickle', f)\n",
        "  name = str( int( result.group(1) ) )\n",
        "  im.save(r'results/' + name + '.png')\n",
        "  pickle.dump( pkl, open( r'results/' + name + '.pickle', \"wb\" ) )\n",
        "\"\"\""
      ],
      "execution_count": null,
      "outputs": [
        {
          "output_type": "stream",
          "text": [
            "  adding: results/ (stored 0%)\n",
            "  adding: results/iternet/ (stored 0%)\n",
            "  adding: results/iternet/31.png (deflated 0%)\n",
            "  adding: results/iternet/54.png (deflated 0%)\n",
            "  adding: results/iternet/19.png (deflated 0%)\n",
            "  adding: results/iternet/16.png (deflated 0%)\n",
            "  adding: results/iternet/49.png (deflated 0%)\n",
            "  adding: results/iternet/43.png (deflated 0%)\n",
            "  adding: results/iternet/50.png (deflated 0%)\n",
            "  adding: results/iternet/29.png (deflated 0%)\n",
            "  adding: results/iternet/40.png (deflated 0%)\n",
            "  adding: results/iternet/36.png (deflated 0%)\n",
            "  adding: results/iternet/01.png (deflated 0%)\n",
            "  adding: results/iternet/21.png (deflated 0%)\n",
            "  adding: results/iternet/47.png (deflated 0%)\n",
            "  adding: results/iternet/15.png (deflated 0%)\n",
            "  adding: results/iternet/30.png (deflated 0%)\n",
            "  adding: results/iternet/32.png (deflated 0%)\n",
            "  adding: results/iternet/52.png (deflated 0%)\n",
            "  adding: results/iternet/27.png (deflated 0%)\n",
            "  adding: results/iternet/22.png (deflated 0%)\n",
            "  adding: results/iternet/10.png (deflated 0%)\n",
            "  adding: results/iternet/41.png (deflated 0%)\n",
            "  adding: results/iternet/14.png (deflated 0%)\n",
            "  adding: results/iternet/48.png (deflated 0%)\n",
            "  adding: results/iternet/34.png (deflated 0%)\n",
            "  adding: results/iternet/26.png (deflated 0%)\n",
            "  adding: results/iternet/12.png (deflated 0%)\n",
            "  adding: results/iternet/33.png (deflated 0%)\n",
            "  adding: results/iternet/13.png (deflated 0%)\n",
            "  adding: results/iternet/07.png (deflated 0%)\n",
            "  adding: results/iternet/02.png (deflated 0%)\n",
            "  adding: results/iternet/08.png (deflated 0%)\n",
            "  adding: results/iternet/46.png (stored 0%)\n",
            "  adding: results/iternet/24.png (deflated 0%)\n",
            "  adding: results/iternet/39.png (deflated 0%)\n",
            "  adding: results/iternet/53.png (deflated 0%)\n",
            "  adding: results/iternet/51.png (deflated 0%)\n",
            "  adding: results/iternet/42.png (deflated 0%)\n",
            "  adding: results/iternet/04.png (deflated 0%)\n",
            "  adding: results/iternet/37.png (deflated 0%)\n",
            "  adding: results/iternet/23.png (deflated 0%)\n",
            "  adding: results/iternet/05.png (deflated 0%)\n",
            "  adding: results/iternet/18.png (deflated 0%)\n",
            "  adding: results/iternet/25.png (deflated 0%)\n",
            "  adding: results/iternet/20.png (deflated 0%)\n",
            "  adding: results/iternet/06.png (deflated 0%)\n",
            "  adding: results/iternet/03.png (deflated 0%)\n",
            "  adding: results/iternet/28.png (deflated 0%)\n",
            "  adding: results/iternet/09.png (deflated 0%)\n",
            "  adding: results/iternet/17.png (deflated 0%)\n",
            "  adding: results/iternet/35.png (deflated 0%)\n",
            "  adding: results/iternet/11.png (deflated 0%)\n",
            "  adding: results/iternet/45.png (deflated 0%)\n",
            "  adding: results/iternet/44.png (deflated 0%)\n",
            "  adding: results/iternet/38.png (deflated 0%)\n",
            "  adding: results/.gitignore (deflated 44%)\n",
            "  adding: results/unet/ (stored 0%)\n",
            "  adding: results/unet/31.png (deflated 0%)\n",
            "  adding: results/unet/54.png (deflated 0%)\n",
            "  adding: results/unet/19.png (deflated 0%)\n",
            "  adding: results/unet/16.png (deflated 0%)\n",
            "  adding: results/unet/49.png (deflated 0%)\n",
            "  adding: results/unet/43.png (deflated 0%)\n",
            "  adding: results/unet/50.png (deflated 0%)\n",
            "  adding: results/unet/29.png (deflated 0%)\n",
            "  adding: results/unet/40.png (deflated 0%)\n",
            "  adding: results/unet/36.png (deflated 0%)\n",
            "  adding: results/unet/01.png (deflated 0%)\n",
            "  adding: results/unet/21.png (deflated 0%)\n",
            "  adding: results/unet/47.png (deflated 0%)\n",
            "  adding: results/unet/15.png (deflated 0%)\n",
            "  adding: results/unet/30.png (deflated 0%)\n",
            "  adding: results/unet/32.png (deflated 0%)\n",
            "  adding: results/unet/52.png (deflated 0%)\n",
            "  adding: results/unet/27.png (deflated 0%)\n",
            "  adding: results/unet/22.png (deflated 0%)\n",
            "  adding: results/unet/10.png (deflated 0%)\n",
            "  adding: results/unet/41.png (deflated 0%)\n",
            "  adding: results/unet/14.png (deflated 0%)\n",
            "  adding: results/unet/48.png (deflated 0%)\n",
            "  adding: results/unet/34.png (deflated 0%)\n",
            "  adding: results/unet/26.png (deflated 0%)\n",
            "  adding: results/unet/12.png (deflated 0%)\n",
            "  adding: results/unet/33.png (deflated 0%)\n",
            "  adding: results/unet/13.png (deflated 0%)\n",
            "  adding: results/unet/07.png (deflated 0%)\n",
            "  adding: results/unet/02.png (deflated 0%)\n",
            "  adding: results/unet/08.png (deflated 0%)\n",
            "  adding: results/unet/46.png (stored 0%)\n",
            "  adding: results/unet/24.png (deflated 0%)\n",
            "  adding: results/unet/39.png (deflated 0%)\n",
            "  adding: results/unet/53.png (deflated 0%)\n",
            "  adding: results/unet/51.png (deflated 0%)\n",
            "  adding: results/unet/42.png (deflated 0%)\n",
            "  adding: results/unet/04.png (deflated 0%)\n",
            "  adding: results/unet/37.png (deflated 0%)\n",
            "  adding: results/unet/23.png (deflated 0%)\n",
            "  adding: results/unet/05.png (deflated 0%)\n",
            "  adding: results/unet/18.png (deflated 0%)\n",
            "  adding: results/unet/25.png (deflated 0%)\n",
            "  adding: results/unet/20.png (deflated 0%)\n",
            "  adding: results/unet/06.png (deflated 0%)\n",
            "  adding: results/unet/03.png (deflated 0%)\n",
            "  adding: results/unet/28.png (deflated 0%)\n",
            "  adding: results/unet/09.png (deflated 0%)\n",
            "  adding: results/unet/17.png (deflated 0%)\n",
            "  adding: results/unet/35.png (deflated 0%)\n",
            "  adding: results/unet/11.png (deflated 0%)\n",
            "  adding: results/unet/45.png (deflated 0%)\n",
            "  adding: results/unet/44.png (deflated 0%)\n",
            "  adding: results/unet/38.png (deflated 0%)\n"
          ],
          "name": "stdout"
        },
        {
          "output_type": "execute_result",
          "data": {
            "text/plain": [
              "'\\nfiles = glob(r\"output/DRIVE/crop_size_128/out4/*.pickle\")\\nfor f in files:\\n  #se guarda cada pickle en el directorio results, y tambien se exporta como imagen\\n  pkl = pickle.load(open( f, \"rb\" ) )\\n  im = Image.fromarray(pkl*255)\\n  im = im.convert(\"L\")\\n  result = re.search(\\'out4/(.*).pickle\\', f)\\n  name = str( int( result.group(1) ) )\\n  im.save(r\\'results/\\' + name + \\'.png\\')\\n  pickle.dump( pkl, open( r\\'results/\\' + name + \\'.pickle\\', \"wb\" ) )\\n'"
            ]
          },
          "metadata": {
            "tags": []
          },
          "execution_count": 4
        }
      ]
    },
    {
      "cell_type": "code",
      "metadata": {
        "id": "W1b02AwyRQHy"
      },
      "source": [],
      "execution_count": null,
      "outputs": []
    }
  ]
}